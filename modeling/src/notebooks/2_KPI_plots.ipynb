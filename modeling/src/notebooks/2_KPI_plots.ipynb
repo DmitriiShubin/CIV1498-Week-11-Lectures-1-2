{
 "cells": [
  {
   "cell_type": "code",
   "execution_count": 1,
   "id": "85a58f03-3b38-428c-889a-f814276e8275",
   "metadata": {},
   "outputs": [
    {
     "name": "stdout",
     "output_type": "stream",
     "text": [
      "/home/dmitriishubin/Desktop/Projects/fraud_detection/modeling\n"
     ]
    }
   ],
   "source": [
    "cd .."
   ]
  },
  {
   "cell_type": "code",
   "execution_count": 2,
   "id": "d2c4a438-0555-4c66-a38f-c801b6d600f9",
   "metadata": {},
   "outputs": [],
   "source": [
    "import pandas as pd\n",
    "import numpy as np\n",
    "import pickle\n",
    "\n",
    "import seaborn as sns\n",
    "import matplotlib.pyplot as plt\n",
    "import json\n",
    "import os\n",
    "from sklearn.metrics import f1_score,precision_score,recall_score,roc_auc_score,mean_absolute_error,roc_curve, auc\n",
    "\n",
    "from utils.confusion_matrix_pretty_print import plot_confusion_matrix_from_data"
   ]
  },
  {
   "cell_type": "markdown",
   "id": "61a31a1e-eaea-4cce-9fcf-731c22edd1e5",
   "metadata": {},
   "source": [
    "# Field for global variables"
   ]
  },
  {
   "cell_type": "code",
   "execution_count": 3,
   "id": "0b7febde-1a92-47ee-9ff2-55c8e1c41acc",
   "metadata": {},
   "outputs": [],
   "source": [
    "DATA_PATH = './data/processed/'\n",
    "\n",
    "\n",
    "FEATURES = pd.read_csv('./experiments/pat_optimized/features.csv')['0'].to_list()\n",
    "files = [i for i in os.listdir(DATA_PATH) if i.find('test')!=-1]\n",
    "\n",
    "MODEL_PATH = './experiments/pat_optimized/1_lgb_model.pkl'"
   ]
  },
  {
   "cell_type": "markdown",
   "id": "7f070adc-7d80-4e1e-af46-434ef1d83d12",
   "metadata": {},
   "source": [
    "# Load the data"
   ]
  },
  {
   "cell_type": "code",
   "execution_count": 4,
   "id": "1fc81de7-8fca-4e35-8f10-e7432b7e40eb",
   "metadata": {},
   "outputs": [
    {
     "data": {
      "text/html": [
       "<div>\n",
       "<style scoped>\n",
       "    .dataframe tbody tr th:only-of-type {\n",
       "        vertical-align: middle;\n",
       "    }\n",
       "\n",
       "    .dataframe tbody tr th {\n",
       "        vertical-align: top;\n",
       "    }\n",
       "\n",
       "    .dataframe thead th {\n",
       "        text-align: right;\n",
       "    }\n",
       "</style>\n",
       "<table border=\"1\" class=\"dataframe\">\n",
       "  <thead>\n",
       "    <tr style=\"text-align: right;\">\n",
       "      <th></th>\n",
       "      <th>V1</th>\n",
       "      <th>V2</th>\n",
       "      <th>V3</th>\n",
       "      <th>V4</th>\n",
       "      <th>V5</th>\n",
       "      <th>V7</th>\n",
       "      <th>V9</th>\n",
       "      <th>V10</th>\n",
       "      <th>V11</th>\n",
       "      <th>V12</th>\n",
       "      <th>...</th>\n",
       "      <th>V22</th>\n",
       "      <th>V23</th>\n",
       "      <th>V24</th>\n",
       "      <th>V25</th>\n",
       "      <th>V26</th>\n",
       "      <th>V27</th>\n",
       "      <th>V28</th>\n",
       "      <th>Amount</th>\n",
       "      <th>Class</th>\n",
       "      <th>diff</th>\n",
       "    </tr>\n",
       "  </thead>\n",
       "  <tbody>\n",
       "    <tr>\n",
       "      <th>0</th>\n",
       "      <td>0.155163</td>\n",
       "      <td>-0.525324</td>\n",
       "      <td>-1.351103</td>\n",
       "      <td>-1.509281</td>\n",
       "      <td>-1.752188</td>\n",
       "      <td>0.154121</td>\n",
       "      <td>0.228898</td>\n",
       "      <td>0.173046</td>\n",
       "      <td>-1.608903</td>\n",
       "      <td>-0.431852</td>\n",
       "      <td>...</td>\n",
       "      <td>-0.259471</td>\n",
       "      <td>1.128948</td>\n",
       "      <td>-0.563144</td>\n",
       "      <td>-0.543998</td>\n",
       "      <td>-0.661309</td>\n",
       "      <td>-0.096865</td>\n",
       "      <td>0.141882</td>\n",
       "      <td>457.75</td>\n",
       "      <td>0</td>\n",
       "      <td>0.0</td>\n",
       "    </tr>\n",
       "    <tr>\n",
       "      <th>1</th>\n",
       "      <td>-1.400610</td>\n",
       "      <td>-0.553617</td>\n",
       "      <td>0.587429</td>\n",
       "      <td>-2.054100</td>\n",
       "      <td>1.297219</td>\n",
       "      <td>0.206195</td>\n",
       "      <td>-1.173674</td>\n",
       "      <td>-0.167376</td>\n",
       "      <td>0.383199</td>\n",
       "      <td>-0.839710</td>\n",
       "      <td>...</td>\n",
       "      <td>-0.493142</td>\n",
       "      <td>0.006889</td>\n",
       "      <td>-0.467570</td>\n",
       "      <td>-0.475793</td>\n",
       "      <td>0.150138</td>\n",
       "      <td>0.248055</td>\n",
       "      <td>0.082857</td>\n",
       "      <td>0.89</td>\n",
       "      <td>0</td>\n",
       "      <td>0.0</td>\n",
       "    </tr>\n",
       "    <tr>\n",
       "      <th>2</th>\n",
       "      <td>-1.163984</td>\n",
       "      <td>-0.949218</td>\n",
       "      <td>0.132920</td>\n",
       "      <td>-1.706721</td>\n",
       "      <td>-1.703319</td>\n",
       "      <td>1.253259</td>\n",
       "      <td>-1.381618</td>\n",
       "      <td>-0.623965</td>\n",
       "      <td>0.134451</td>\n",
       "      <td>0.313022</td>\n",
       "      <td>...</td>\n",
       "      <td>0.954231</td>\n",
       "      <td>-1.257424</td>\n",
       "      <td>0.148638</td>\n",
       "      <td>-0.313752</td>\n",
       "      <td>0.008125</td>\n",
       "      <td>0.767950</td>\n",
       "      <td>0.286614</td>\n",
       "      <td>449.00</td>\n",
       "      <td>0</td>\n",
       "      <td>0.0</td>\n",
       "    </tr>\n",
       "    <tr>\n",
       "      <th>3</th>\n",
       "      <td>2.039643</td>\n",
       "      <td>0.043199</td>\n",
       "      <td>-1.025568</td>\n",
       "      <td>1.074061</td>\n",
       "      <td>0.434267</td>\n",
       "      <td>-0.137383</td>\n",
       "      <td>0.598104</td>\n",
       "      <td>0.168523</td>\n",
       "      <td>-1.398415</td>\n",
       "      <td>0.608995</td>\n",
       "      <td>...</td>\n",
       "      <td>1.162670</td>\n",
       "      <td>0.184397</td>\n",
       "      <td>-1.427015</td>\n",
       "      <td>0.074987</td>\n",
       "      <td>-0.321280</td>\n",
       "      <td>0.077166</td>\n",
       "      <td>0.128592</td>\n",
       "      <td>156.52</td>\n",
       "      <td>0</td>\n",
       "      <td>0.0</td>\n",
       "    </tr>\n",
       "    <tr>\n",
       "      <th>4</th>\n",
       "      <td>0.024917</td>\n",
       "      <td>0.816784</td>\n",
       "      <td>0.152776</td>\n",
       "      <td>-0.805624</td>\n",
       "      <td>0.712848</td>\n",
       "      <td>0.891667</td>\n",
       "      <td>-0.305852</td>\n",
       "      <td>-0.253502</td>\n",
       "      <td>0.497687</td>\n",
       "      <td>0.815087</td>\n",
       "      <td>...</td>\n",
       "      <td>-0.754206</td>\n",
       "      <td>0.179094</td>\n",
       "      <td>0.647749</td>\n",
       "      <td>-0.400432</td>\n",
       "      <td>0.095237</td>\n",
       "      <td>0.201899</td>\n",
       "      <td>0.069591</td>\n",
       "      <td>9.99</td>\n",
       "      <td>0</td>\n",
       "      <td>1.0</td>\n",
       "    </tr>\n",
       "  </tbody>\n",
       "</table>\n",
       "<p>5 rows × 123 columns</p>\n",
       "</div>"
      ],
      "text/plain": [
       "         V1        V2        V3        V4        V5        V7        V9  \\\n",
       "0  0.155163 -0.525324 -1.351103 -1.509281 -1.752188  0.154121  0.228898   \n",
       "1 -1.400610 -0.553617  0.587429 -2.054100  1.297219  0.206195 -1.173674   \n",
       "2 -1.163984 -0.949218  0.132920 -1.706721 -1.703319  1.253259 -1.381618   \n",
       "3  2.039643  0.043199 -1.025568  1.074061  0.434267 -0.137383  0.598104   \n",
       "4  0.024917  0.816784  0.152776 -0.805624  0.712848  0.891667 -0.305852   \n",
       "\n",
       "        V10       V11       V12  ...       V22       V23       V24       V25  \\\n",
       "0  0.173046 -1.608903 -0.431852  ... -0.259471  1.128948 -0.563144 -0.543998   \n",
       "1 -0.167376  0.383199 -0.839710  ... -0.493142  0.006889 -0.467570 -0.475793   \n",
       "2 -0.623965  0.134451  0.313022  ...  0.954231 -1.257424  0.148638 -0.313752   \n",
       "3  0.168523 -1.398415  0.608995  ...  1.162670  0.184397 -1.427015  0.074987   \n",
       "4 -0.253502  0.497687  0.815087  ... -0.754206  0.179094  0.647749 -0.400432   \n",
       "\n",
       "        V26       V27       V28  Amount  Class  diff  \n",
       "0 -0.661309 -0.096865  0.141882  457.75      0   0.0  \n",
       "1  0.150138  0.248055  0.082857    0.89      0   0.0  \n",
       "2  0.008125  0.767950  0.286614  449.00      0   0.0  \n",
       "3 -0.321280  0.077166  0.128592  156.52      0   0.0  \n",
       "4  0.095237  0.201899  0.069591    9.99      0   1.0  \n",
       "\n",
       "[5 rows x 123 columns]"
      ]
     },
     "execution_count": 4,
     "metadata": {},
     "output_type": "execute_result"
    }
   ],
   "source": [
    "for index,file in enumerate(files):\n",
    "    \n",
    "    if index == 0:\n",
    "        df = pd.read_csv(DATA_PATH+file)\n",
    "    else:\n",
    "        temp = pd.read_csv(DATA_PATH+file)\n",
    "        df = df.append(temp)\n",
    "\n",
    "df = df.sort_values(by='Time')\n",
    "df.head(5)"
   ]
  },
  {
   "cell_type": "markdown",
   "id": "22a9637c-03bd-41b3-9203-369a2b124ae9",
   "metadata": {},
   "source": [
    "# Get predictions"
   ]
  },
  {
   "cell_type": "code",
   "execution_count": 5,
   "id": "61d5a0a3-5b6f-4241-b1d1-051f8bc6d762",
   "metadata": {},
   "outputs": [],
   "source": [
    "model = pickle.load(open(MODEL_PATH, 'rb'))\n",
    "\n",
    "\n",
    "labels = df['Class'].values\n",
    "\n",
    "df = df[FEATURES].values\n",
    "\n",
    "preds = model.predict(df,raw_score=True)\n",
    "preds = 1 / (1 + np.exp(-1 * preds))\n",
    "preds_hard = np.zeros(preds.shape)\n",
    "preds_hard[preds >= 0.5] = 1"
   ]
  },
  {
   "cell_type": "markdown",
   "id": "da6a3792-3b8b-427d-ac84-898778c3da0f",
   "metadata": {},
   "source": [
    "# F1 macro"
   ]
  },
  {
   "cell_type": "code",
   "execution_count": 6,
   "id": "97e8557f-766b-4e12-9f58-e633598365ca",
   "metadata": {},
   "outputs": [
    {
     "name": "stdout",
     "output_type": "stream",
     "text": [
      "F1 total: 0.6629882978121997\n"
     ]
    }
   ],
   "source": [
    "print(f\"F1 total: {f1_score(labels,preds_hard,labels=[0,1],average='macro')}\")"
   ]
  },
  {
   "cell_type": "markdown",
   "id": "14c73040-9207-40b0-9818-1f16d3f1f8f4",
   "metadata": {},
   "source": [
    "# F1 for each class"
   ]
  },
  {
   "cell_type": "code",
   "execution_count": 7,
   "id": "8b0476d6-6990-4f45-af5e-c270800a05c1",
   "metadata": {},
   "outputs": [
    {
     "name": "stdout",
     "output_type": "stream",
     "text": [
      "Class: 0, F1 score: 0.9994459833795014\n",
      "Class: 0, balance: 0.9991948200087227\n",
      "Class: 1, F1 score: 0.32653061224489793\n",
      "Class: 1, balance: 0.0008051799912772167\n"
     ]
    }
   ],
   "source": [
    "n_classes = 2\n",
    "\n",
    "labels_oh = np.eye(n_classes)[labels.astype(np.int32)]\n",
    "preds_oh = np.eye(n_classes)[preds_hard.astype(np.int32)]\n",
    "\n",
    "for cl in range(n_classes):\n",
    "    y_temp = labels_oh[:,cl]\n",
    "    pred_temp = preds_oh[:,cl]\n",
    "    \n",
    "    print(f\"Class: {cl}, F1 score: {f1_score(y_temp,pred_temp)}\")\n",
    "    print(f\"Class: {cl}, balance: {np.mean(y_temp)}\")"
   ]
  },
  {
   "cell_type": "markdown",
   "id": "e4b932a1-be05-4906-994b-ce4ee4d7ae4b",
   "metadata": {},
   "source": [
    "# Precision, Recall, ROC-AUC"
   ]
  },
  {
   "cell_type": "code",
   "execution_count": 8,
   "id": "c73805f4-7a81-42ac-bce4-3295f8de022a",
   "metadata": {},
   "outputs": [
    {
     "name": "stdout",
     "output_type": "stream",
     "text": [
      "Precision: 0.659731381371298\n",
      "Recall: 0.6663812689565636\n",
      "ROC-AUC score: 0.8294370949870732\n"
     ]
    }
   ],
   "source": [
    "print(f\"Precision: {precision_score(labels,preds_hard,labels=[0,1],average='macro')}\")\n",
    "print(f\"Recall: {recall_score(labels,preds_hard,labels=[0,1],average='macro')}\")\n",
    "print(f\"ROC-AUC score: {roc_auc_score(labels_oh[:,1],preds)}\")"
   ]
  },
  {
   "cell_type": "code",
   "execution_count": 9,
   "id": "f18bc3ce-04df-4703-9a73-e4afbcbdb9fd",
   "metadata": {},
   "outputs": [
    {
     "data": {
      "image/png": "[encoded data removed]",
      "text/plain": [
       "<Figure size 648x648 with 1 Axes>"
      ]
     },
     "metadata": {
      "needs_background": "light"
     },
     "output_type": "display_data"
    }
   ],
   "source": [
    "plot_confusion_matrix_from_data(labels,preds_hard,columns=['Not Fraud','Fraud'])"
   ]
  },
  {
   "cell_type": "markdown",
   "id": "24114bc4-5212-4ca5-806c-c77f667ddfa1",
   "metadata": {},
   "source": [
    "# ROC-AUC curve"
   ]
  },
  {
   "cell_type": "code",
   "execution_count": 10,
   "id": "3bd0ab14-c8b3-4979-91c7-91960ba9c02a",
   "metadata": {},
   "outputs": [
    {
     "data": {
      "image/png": "[encoded data removed]",
      "text/plain": [
       "<Figure size 720x720 with 1 Axes>"
      ]
     },
     "metadata": {
      "needs_background": "light"
     },
     "output_type": "display_data"
    }
   ],
   "source": [
    "fpr, tpr, _ = roc_curve(labels, preds)\n",
    "roc_auc = auc(fpr, tpr)\n",
    "\n",
    "plt.figure(figsize=(10,10))\n",
    "lw = 2\n",
    "plt.plot(\n",
    "    fpr,\n",
    "    tpr,\n",
    "    color=\"darkorange\",\n",
    "    lw=lw,\n",
    "    label=\"ROC curve (area = %0.2f)\" % roc_auc,\n",
    ")\n",
    "plt.plot([0, 1], [0, 1], color=\"navy\", lw=lw, linestyle=\"--\")\n",
    "plt.xlim([0.0, 1.0])\n",
    "plt.ylim([0.0, 1.05])\n",
    "plt.xlabel(\"False Positive Rate\")\n",
    "plt.ylabel(\"True Positive Rate\")\n",
    "plt.title(\"Receiver operating characteristic of fraud detector\")\n",
    "plt.legend(loc=\"lower right\")\n",
    "plt.show()"
   ]
  },
  {
   "cell_type": "code",
   "execution_count": null,
   "id": "90ff3de3-df29-4f57-adcc-4775322a29e0",
   "metadata": {},
   "outputs": [],
   "source": []
  }
 ],
 "metadata": {
  "kernelspec": {
   "display_name": "Python 3 (ipykernel)",
   "language": "python",
   "name": "python3"
  },
  "language_info": {
   "codemirror_mode": {
    "name": "ipython",
    "version": 3
   },
   "file_extension": ".py",
   "mimetype": "text/x-python",
   "name": "python",
   "nbconvert_exporter": "python",
   "pygments_lexer": "ipython3",
   "version": "3.7.11"
  }
 },
 "nbformat": 4,
 "nbformat_minor": 5
}
