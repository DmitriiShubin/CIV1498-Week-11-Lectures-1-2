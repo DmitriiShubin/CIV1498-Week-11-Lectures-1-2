{
 "cells": [
  {
   "cell_type": "code",
   "execution_count": 7,
   "id": "c04e5809-45c0-44c8-ac65-84ae06345b6c",
   "metadata": {},
   "outputs": [],
   "source": [
    "import requests"
   ]
  },
  {
   "cell_type": "code",
   "execution_count": 14,
   "id": "5b2beb19-5391-45ea-b0ab-7b7a971f35b2",
   "metadata": {},
   "outputs": [],
   "source": [
    "response = requests.post(url='https://wkbx946s4b.execute-api.ca-central-1.amazonaws.com/dev/api/v1/fraud_detection_api',\n",
    "             json={\n",
    "              \"V1\": 0,\n",
    "              \"V2\": 0,\n",
    "              \"V3\": 0,\n",
    "              \"V4\": 0,\n",
    "              \"V5\": 0,\n",
    "              \"V7\": 0,\n",
    "              \"V9\": 0,\n",
    "              \"V10\": 0,\n",
    "              \"V11\": 0,\n",
    "              \"V12\": 0,\n",
    "              \"V13\": 0,\n",
    "              \"V16\": 0,\n",
    "              \"V17\": 0,\n",
    "              \"V18\": 0,\n",
    "              \"V1_V2\": 0,\n",
    "              \"V1_V3\": 0,\n",
    "              \"V1_V4\": 0,\n",
    "              \"V1_V5\": 0,\n",
    "              \"V1_V7\": 0,\n",
    "              \"V1_V9\": 0,\n",
    "              \"V1_V10\": 0,\n",
    "              \"V1_V11\": 0,\n",
    "              \"V1_V12\": 0,\n",
    "              \"V1_V13\": 0,\n",
    "              \"V1_V16\": 0,\n",
    "              \"V1_V17\": 0,\n",
    "              \"V1_V18\": 0,\n",
    "              \"V2_V3\": 0,\n",
    "              \"V2_V4\": 0,\n",
    "              \"V2_V5\": 0,\n",
    "              \"V2_V7\": 0,\n",
    "              \"diff\": 0\n",
    "             })"
   ]
  },
  {
   "cell_type": "code",
   "execution_count": 15,
   "id": "6a982300-bed2-4693-9eef-219c8b72d1f4",
   "metadata": {},
   "outputs": [
    {
     "data": {
      "text/plain": [
       "{'message': 'Internal server error'}"
      ]
     },
     "execution_count": 15,
     "metadata": {},
     "output_type": "execute_result"
    }
   ],
   "source": [
    "response.json()"
   ]
  },
  {
   "cell_type": "code",
   "execution_count": null,
   "id": "fb8825e0-0833-43b9-8263-f630178b8f36",
   "metadata": {},
   "outputs": [],
   "source": []
  }
 ],
 "metadata": {
  "kernelspec": {
   "display_name": "Python 3 (ipykernel)",
   "language": "python",
   "name": "python3"
  },
  "language_info": {
   "codemirror_mode": {
    "name": "ipython",
    "version": 3
   },
   "file_extension": ".py",
   "mimetype": "text/x-python",
   "name": "python",
   "nbconvert_exporter": "python",
   "pygments_lexer": "ipython3",
   "version": "3.7.11"
  }
 },
 "nbformat": 4,
 "nbformat_minor": 5
}
